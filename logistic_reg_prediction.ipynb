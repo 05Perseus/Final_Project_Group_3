{
 "cells": [
  {
   "cell_type": "markdown",
   "metadata": {},
   "source": [
    "# Flight Arrival Delay"
   ]
  },
  {
   "cell_type": "code",
   "execution_count": 1,
   "metadata": {},
   "outputs": [],
   "source": [
    "# Dependencies\n",
    "import pandas as pd\n",
    "import numpy as np\n",
    "from sklearn.model_selection import train_test_split\n",
    "from sklearn.linear_model import LogisticRegression\n",
    "from sklearn import metrics\n",
    "import matplotlib.pyplot as plt\n",
    "from pathlib import Path"
   ]
  },
  {
   "cell_type": "code",
   "execution_count": 2,
   "metadata": {},
   "outputs": [],
   "source": [
    "# Load the data\n",
    "file_path = Path(\"Resources/Combined_Flights_2021.csv\")\n",
    "data = pd.read_csv(file_path)"
   ]
  },
  {
   "cell_type": "code",
   "execution_count": 3,
   "metadata": {},
   "outputs": [
    {
     "data": {
      "text/html": [
       "<div>\n",
       "<style scoped>\n",
       "    .dataframe tbody tr th:only-of-type {\n",
       "        vertical-align: middle;\n",
       "    }\n",
       "\n",
       "    .dataframe tbody tr th {\n",
       "        vertical-align: top;\n",
       "    }\n",
       "\n",
       "    .dataframe thead th {\n",
       "        text-align: right;\n",
       "    }\n",
       "</style>\n",
       "<table border=\"1\" class=\"dataframe\">\n",
       "  <thead>\n",
       "    <tr style=\"text-align: right;\">\n",
       "      <th></th>\n",
       "      <th>FlightDate</th>\n",
       "      <th>Airline</th>\n",
       "      <th>Origin</th>\n",
       "      <th>Dest</th>\n",
       "      <th>Cancelled</th>\n",
       "      <th>Diverted</th>\n",
       "      <th>CRSDepTime</th>\n",
       "      <th>DepTime</th>\n",
       "      <th>DepDelayMinutes</th>\n",
       "      <th>DepDelay</th>\n",
       "      <th>...</th>\n",
       "      <th>WheelsOff</th>\n",
       "      <th>WheelsOn</th>\n",
       "      <th>TaxiIn</th>\n",
       "      <th>CRSArrTime</th>\n",
       "      <th>ArrDelay</th>\n",
       "      <th>ArrDel15</th>\n",
       "      <th>ArrivalDelayGroups</th>\n",
       "      <th>ArrTimeBlk</th>\n",
       "      <th>DistanceGroup</th>\n",
       "      <th>DivAirportLandings</th>\n",
       "    </tr>\n",
       "  </thead>\n",
       "  <tbody>\n",
       "    <tr>\n",
       "      <th>0</th>\n",
       "      <td>2021-03-03</td>\n",
       "      <td>SkyWest Airlines Inc.</td>\n",
       "      <td>SGU</td>\n",
       "      <td>PHX</td>\n",
       "      <td>False</td>\n",
       "      <td>False</td>\n",
       "      <td>724</td>\n",
       "      <td>714.0</td>\n",
       "      <td>0.0</td>\n",
       "      <td>-10.0</td>\n",
       "      <td>...</td>\n",
       "      <td>724.0</td>\n",
       "      <td>813.0</td>\n",
       "      <td>5.0</td>\n",
       "      <td>843</td>\n",
       "      <td>-25.0</td>\n",
       "      <td>0.0</td>\n",
       "      <td>-2.0</td>\n",
       "      <td>0800-0859</td>\n",
       "      <td>2</td>\n",
       "      <td>0.0</td>\n",
       "    </tr>\n",
       "    <tr>\n",
       "      <th>1</th>\n",
       "      <td>2021-03-03</td>\n",
       "      <td>SkyWest Airlines Inc.</td>\n",
       "      <td>PHX</td>\n",
       "      <td>SGU</td>\n",
       "      <td>False</td>\n",
       "      <td>False</td>\n",
       "      <td>922</td>\n",
       "      <td>917.0</td>\n",
       "      <td>0.0</td>\n",
       "      <td>-5.0</td>\n",
       "      <td>...</td>\n",
       "      <td>940.0</td>\n",
       "      <td>1028.0</td>\n",
       "      <td>3.0</td>\n",
       "      <td>1040</td>\n",
       "      <td>-9.0</td>\n",
       "      <td>0.0</td>\n",
       "      <td>-1.0</td>\n",
       "      <td>1000-1059</td>\n",
       "      <td>2</td>\n",
       "      <td>0.0</td>\n",
       "    </tr>\n",
       "    <tr>\n",
       "      <th>2</th>\n",
       "      <td>2021-03-03</td>\n",
       "      <td>SkyWest Airlines Inc.</td>\n",
       "      <td>MHT</td>\n",
       "      <td>ORD</td>\n",
       "      <td>False</td>\n",
       "      <td>False</td>\n",
       "      <td>1330</td>\n",
       "      <td>1321.0</td>\n",
       "      <td>0.0</td>\n",
       "      <td>-9.0</td>\n",
       "      <td>...</td>\n",
       "      <td>1336.0</td>\n",
       "      <td>1445.0</td>\n",
       "      <td>16.0</td>\n",
       "      <td>1530</td>\n",
       "      <td>-29.0</td>\n",
       "      <td>0.0</td>\n",
       "      <td>-2.0</td>\n",
       "      <td>1500-1559</td>\n",
       "      <td>4</td>\n",
       "      <td>0.0</td>\n",
       "    </tr>\n",
       "    <tr>\n",
       "      <th>3</th>\n",
       "      <td>2021-03-03</td>\n",
       "      <td>SkyWest Airlines Inc.</td>\n",
       "      <td>DFW</td>\n",
       "      <td>TRI</td>\n",
       "      <td>False</td>\n",
       "      <td>False</td>\n",
       "      <td>1645</td>\n",
       "      <td>1636.0</td>\n",
       "      <td>0.0</td>\n",
       "      <td>-9.0</td>\n",
       "      <td>...</td>\n",
       "      <td>1703.0</td>\n",
       "      <td>1955.0</td>\n",
       "      <td>7.0</td>\n",
       "      <td>2010</td>\n",
       "      <td>-8.0</td>\n",
       "      <td>0.0</td>\n",
       "      <td>-1.0</td>\n",
       "      <td>2000-2059</td>\n",
       "      <td>4</td>\n",
       "      <td>0.0</td>\n",
       "    </tr>\n",
       "    <tr>\n",
       "      <th>4</th>\n",
       "      <td>2021-03-03</td>\n",
       "      <td>SkyWest Airlines Inc.</td>\n",
       "      <td>PHX</td>\n",
       "      <td>BFL</td>\n",
       "      <td>False</td>\n",
       "      <td>False</td>\n",
       "      <td>1844</td>\n",
       "      <td>1838.0</td>\n",
       "      <td>0.0</td>\n",
       "      <td>-6.0</td>\n",
       "      <td>...</td>\n",
       "      <td>1851.0</td>\n",
       "      <td>1900.0</td>\n",
       "      <td>3.0</td>\n",
       "      <td>1925</td>\n",
       "      <td>-22.0</td>\n",
       "      <td>0.0</td>\n",
       "      <td>-2.0</td>\n",
       "      <td>1900-1959</td>\n",
       "      <td>2</td>\n",
       "      <td>0.0</td>\n",
       "    </tr>\n",
       "    <tr>\n",
       "      <th>5</th>\n",
       "      <td>2021-03-03</td>\n",
       "      <td>SkyWest Airlines Inc.</td>\n",
       "      <td>ORD</td>\n",
       "      <td>BNA</td>\n",
       "      <td>False</td>\n",
       "      <td>False</td>\n",
       "      <td>1650</td>\n",
       "      <td>1648.0</td>\n",
       "      <td>0.0</td>\n",
       "      <td>-2.0</td>\n",
       "      <td>...</td>\n",
       "      <td>1707.0</td>\n",
       "      <td>1804.0</td>\n",
       "      <td>4.0</td>\n",
       "      <td>1834</td>\n",
       "      <td>-26.0</td>\n",
       "      <td>0.0</td>\n",
       "      <td>-2.0</td>\n",
       "      <td>1800-1859</td>\n",
       "      <td>2</td>\n",
       "      <td>0.0</td>\n",
       "    </tr>\n",
       "    <tr>\n",
       "      <th>6</th>\n",
       "      <td>2021-03-03</td>\n",
       "      <td>SkyWest Airlines Inc.</td>\n",
       "      <td>PSP</td>\n",
       "      <td>PHX</td>\n",
       "      <td>False</td>\n",
       "      <td>False</td>\n",
       "      <td>1652</td>\n",
       "      <td>1651.0</td>\n",
       "      <td>0.0</td>\n",
       "      <td>-1.0</td>\n",
       "      <td>...</td>\n",
       "      <td>1739.0</td>\n",
       "      <td>1924.0</td>\n",
       "      <td>5.0</td>\n",
       "      <td>1902</td>\n",
       "      <td>27.0</td>\n",
       "      <td>1.0</td>\n",
       "      <td>1.0</td>\n",
       "      <td>1900-1959</td>\n",
       "      <td>2</td>\n",
       "      <td>0.0</td>\n",
       "    </tr>\n",
       "    <tr>\n",
       "      <th>7</th>\n",
       "      <td>2021-03-03</td>\n",
       "      <td>SkyWest Airlines Inc.</td>\n",
       "      <td>DFW</td>\n",
       "      <td>YUM</td>\n",
       "      <td>False</td>\n",
       "      <td>False</td>\n",
       "      <td>1245</td>\n",
       "      <td>1242.0</td>\n",
       "      <td>0.0</td>\n",
       "      <td>-3.0</td>\n",
       "      <td>...</td>\n",
       "      <td>1314.0</td>\n",
       "      <td>1447.0</td>\n",
       "      <td>5.0</td>\n",
       "      <td>1456</td>\n",
       "      <td>-4.0</td>\n",
       "      <td>0.0</td>\n",
       "      <td>-1.0</td>\n",
       "      <td>1400-1459</td>\n",
       "      <td>5</td>\n",
       "      <td>0.0</td>\n",
       "    </tr>\n",
       "    <tr>\n",
       "      <th>8</th>\n",
       "      <td>2021-03-03</td>\n",
       "      <td>SkyWest Airlines Inc.</td>\n",
       "      <td>LBB</td>\n",
       "      <td>PHX</td>\n",
       "      <td>False</td>\n",
       "      <td>False</td>\n",
       "      <td>726</td>\n",
       "      <td>717.0</td>\n",
       "      <td>0.0</td>\n",
       "      <td>-9.0</td>\n",
       "      <td>...</td>\n",
       "      <td>729.0</td>\n",
       "      <td>813.0</td>\n",
       "      <td>8.0</td>\n",
       "      <td>836</td>\n",
       "      <td>-15.0</td>\n",
       "      <td>0.0</td>\n",
       "      <td>-1.0</td>\n",
       "      <td>0800-0859</td>\n",
       "      <td>3</td>\n",
       "      <td>0.0</td>\n",
       "    </tr>\n",
       "    <tr>\n",
       "      <th>9</th>\n",
       "      <td>2021-03-03</td>\n",
       "      <td>SkyWest Airlines Inc.</td>\n",
       "      <td>DFW</td>\n",
       "      <td>DRO</td>\n",
       "      <td>False</td>\n",
       "      <td>False</td>\n",
       "      <td>2045</td>\n",
       "      <td>2040.0</td>\n",
       "      <td>0.0</td>\n",
       "      <td>-5.0</td>\n",
       "      <td>...</td>\n",
       "      <td>2105.0</td>\n",
       "      <td>2142.0</td>\n",
       "      <td>2.0</td>\n",
       "      <td>2215</td>\n",
       "      <td>-31.0</td>\n",
       "      <td>0.0</td>\n",
       "      <td>-2.0</td>\n",
       "      <td>2200-2259</td>\n",
       "      <td>3</td>\n",
       "      <td>0.0</td>\n",
       "    </tr>\n",
       "  </tbody>\n",
       "</table>\n",
       "<p>10 rows × 61 columns</p>\n",
       "</div>"
      ],
      "text/plain": [
       "   FlightDate                Airline Origin Dest  Cancelled  Diverted  \\\n",
       "0  2021-03-03  SkyWest Airlines Inc.    SGU  PHX      False     False   \n",
       "1  2021-03-03  SkyWest Airlines Inc.    PHX  SGU      False     False   \n",
       "2  2021-03-03  SkyWest Airlines Inc.    MHT  ORD      False     False   \n",
       "3  2021-03-03  SkyWest Airlines Inc.    DFW  TRI      False     False   \n",
       "4  2021-03-03  SkyWest Airlines Inc.    PHX  BFL      False     False   \n",
       "5  2021-03-03  SkyWest Airlines Inc.    ORD  BNA      False     False   \n",
       "6  2021-03-03  SkyWest Airlines Inc.    PSP  PHX      False     False   \n",
       "7  2021-03-03  SkyWest Airlines Inc.    DFW  YUM      False     False   \n",
       "8  2021-03-03  SkyWest Airlines Inc.    LBB  PHX      False     False   \n",
       "9  2021-03-03  SkyWest Airlines Inc.    DFW  DRO      False     False   \n",
       "\n",
       "   CRSDepTime  DepTime  DepDelayMinutes  DepDelay  ...  WheelsOff  WheelsOn  \\\n",
       "0         724    714.0              0.0     -10.0  ...      724.0     813.0   \n",
       "1         922    917.0              0.0      -5.0  ...      940.0    1028.0   \n",
       "2        1330   1321.0              0.0      -9.0  ...     1336.0    1445.0   \n",
       "3        1645   1636.0              0.0      -9.0  ...     1703.0    1955.0   \n",
       "4        1844   1838.0              0.0      -6.0  ...     1851.0    1900.0   \n",
       "5        1650   1648.0              0.0      -2.0  ...     1707.0    1804.0   \n",
       "6        1652   1651.0              0.0      -1.0  ...     1739.0    1924.0   \n",
       "7        1245   1242.0              0.0      -3.0  ...     1314.0    1447.0   \n",
       "8         726    717.0              0.0      -9.0  ...      729.0     813.0   \n",
       "9        2045   2040.0              0.0      -5.0  ...     2105.0    2142.0   \n",
       "\n",
       "   TaxiIn  CRSArrTime  ArrDelay  ArrDel15  ArrivalDelayGroups  ArrTimeBlk  \\\n",
       "0     5.0         843     -25.0       0.0                -2.0   0800-0859   \n",
       "1     3.0        1040      -9.0       0.0                -1.0   1000-1059   \n",
       "2    16.0        1530     -29.0       0.0                -2.0   1500-1559   \n",
       "3     7.0        2010      -8.0       0.0                -1.0   2000-2059   \n",
       "4     3.0        1925     -22.0       0.0                -2.0   1900-1959   \n",
       "5     4.0        1834     -26.0       0.0                -2.0   1800-1859   \n",
       "6     5.0        1902      27.0       1.0                 1.0   1900-1959   \n",
       "7     5.0        1456      -4.0       0.0                -1.0   1400-1459   \n",
       "8     8.0         836     -15.0       0.0                -1.0   0800-0859   \n",
       "9     2.0        2215     -31.0       0.0                -2.0   2200-2259   \n",
       "\n",
       "   DistanceGroup  DivAirportLandings  \n",
       "0              2                 0.0  \n",
       "1              2                 0.0  \n",
       "2              4                 0.0  \n",
       "3              4                 0.0  \n",
       "4              2                 0.0  \n",
       "5              2                 0.0  \n",
       "6              2                 0.0  \n",
       "7              5                 0.0  \n",
       "8              3                 0.0  \n",
       "9              3                 0.0  \n",
       "\n",
       "[10 rows x 61 columns]"
      ]
     },
     "execution_count": 3,
     "metadata": {},
     "output_type": "execute_result"
    }
   ],
   "source": [
    "# View data\n",
    "data.head(10)"
   ]
  },
  {
   "cell_type": "code",
   "execution_count": 4,
   "metadata": {},
   "outputs": [
    {
     "data": {
      "text/plain": [
       "(6311871, 61)"
      ]
     },
     "execution_count": 4,
     "metadata": {},
     "output_type": "execute_result"
    }
   ],
   "source": [
    "data.shape"
   ]
  },
  {
   "cell_type": "code",
   "execution_count": 5,
   "metadata": {},
   "outputs": [
    {
     "data": {
      "text/plain": [
       "FlightDate                 0\n",
       "Airline                    0\n",
       "Origin                     0\n",
       "Dest                       0\n",
       "Cancelled                  0\n",
       "                       ...  \n",
       "ArrDel15              126001\n",
       "ArrivalDelayGroups    126001\n",
       "ArrTimeBlk                 0\n",
       "DistanceGroup              0\n",
       "DivAirportLandings         2\n",
       "Length: 61, dtype: int64"
      ]
     },
     "execution_count": 5,
     "metadata": {},
     "output_type": "execute_result"
    }
   ],
   "source": [
    "# Find total NaNs in dimensions\n",
    "data.isnull().sum()"
   ]
  },
  {
   "cell_type": "code",
   "execution_count": 6,
   "metadata": {},
   "outputs": [
    {
     "data": {
      "text/plain": [
       "FlightDate            0\n",
       "Airline               0\n",
       "Origin                0\n",
       "Dest                  0\n",
       "Cancelled             0\n",
       "                     ..\n",
       "ArrDel15              0\n",
       "ArrivalDelayGroups    0\n",
       "ArrTimeBlk            0\n",
       "DistanceGroup         0\n",
       "DivAirportLandings    0\n",
       "Length: 61, dtype: int64"
      ]
     },
     "execution_count": 6,
     "metadata": {},
     "output_type": "execute_result"
    }
   ],
   "source": [
    "# Remove NaN from test\n",
    "data = data.fillna('')\n",
    "\n",
    "data.isnull().sum()\n",
    "\n"
   ]
  },
  {
   "cell_type": "code",
   "execution_count": 51,
   "metadata": {},
   "outputs": [],
   "source": []
  },
  {
   "cell_type": "markdown",
   "metadata": {},
   "source": [
    "# Split, test and train data"
   ]
  },
  {
   "cell_type": "code",
   "execution_count": 52,
   "metadata": {},
   "outputs": [
    {
     "data": {
      "text/html": [
       "<div>\n",
       "<style scoped>\n",
       "    .dataframe tbody tr th:only-of-type {\n",
       "        vertical-align: middle;\n",
       "    }\n",
       "\n",
       "    .dataframe tbody tr th {\n",
       "        vertical-align: top;\n",
       "    }\n",
       "\n",
       "    .dataframe thead th {\n",
       "        text-align: right;\n",
       "    }\n",
       "</style>\n",
       "<table border=\"1\" class=\"dataframe\">\n",
       "  <thead>\n",
       "    <tr style=\"text-align: right;\">\n",
       "      <th></th>\n",
       "      <th>Flight_Number_Marketing_Airline</th>\n",
       "      <th>Cancelled</th>\n",
       "      <th>Diverted</th>\n",
       "      <th>CRSDepTime</th>\n",
       "      <th>DepTime</th>\n",
       "      <th>DepDelayMinutes</th>\n",
       "      <th>OriginAirportID</th>\n",
       "      <th>DestAirportID</th>\n",
       "      <th>TaxiOut</th>\n",
       "      <th>TaxiIn</th>\n",
       "      <th>CRSArrTime</th>\n",
       "      <th>ArrDelay</th>\n",
       "    </tr>\n",
       "  </thead>\n",
       "  <tbody>\n",
       "    <tr>\n",
       "      <th>0</th>\n",
       "      <td>3133</td>\n",
       "      <td>False</td>\n",
       "      <td>False</td>\n",
       "      <td>724</td>\n",
       "      <td>714.0</td>\n",
       "      <td>0.0</td>\n",
       "      <td>14794</td>\n",
       "      <td>14107</td>\n",
       "      <td>10.0</td>\n",
       "      <td>5.0</td>\n",
       "      <td>843</td>\n",
       "      <td>-25.0</td>\n",
       "    </tr>\n",
       "    <tr>\n",
       "      <th>1</th>\n",
       "      <td>3134</td>\n",
       "      <td>False</td>\n",
       "      <td>False</td>\n",
       "      <td>922</td>\n",
       "      <td>917.0</td>\n",
       "      <td>0.0</td>\n",
       "      <td>14107</td>\n",
       "      <td>14794</td>\n",
       "      <td>23.0</td>\n",
       "      <td>3.0</td>\n",
       "      <td>1040</td>\n",
       "      <td>-9.0</td>\n",
       "    </tr>\n",
       "    <tr>\n",
       "      <th>2</th>\n",
       "      <td>3135</td>\n",
       "      <td>False</td>\n",
       "      <td>False</td>\n",
       "      <td>1330</td>\n",
       "      <td>1321.0</td>\n",
       "      <td>0.0</td>\n",
       "      <td>13296</td>\n",
       "      <td>13930</td>\n",
       "      <td>15.0</td>\n",
       "      <td>16.0</td>\n",
       "      <td>1530</td>\n",
       "      <td>-29.0</td>\n",
       "    </tr>\n",
       "    <tr>\n",
       "      <th>3</th>\n",
       "      <td>3136</td>\n",
       "      <td>False</td>\n",
       "      <td>False</td>\n",
       "      <td>1645</td>\n",
       "      <td>1636.0</td>\n",
       "      <td>0.0</td>\n",
       "      <td>11298</td>\n",
       "      <td>15323</td>\n",
       "      <td>27.0</td>\n",
       "      <td>7.0</td>\n",
       "      <td>2010</td>\n",
       "      <td>-8.0</td>\n",
       "    </tr>\n",
       "    <tr>\n",
       "      <th>4</th>\n",
       "      <td>3137</td>\n",
       "      <td>False</td>\n",
       "      <td>False</td>\n",
       "      <td>1844</td>\n",
       "      <td>1838.0</td>\n",
       "      <td>0.0</td>\n",
       "      <td>14107</td>\n",
       "      <td>10561</td>\n",
       "      <td>13.0</td>\n",
       "      <td>3.0</td>\n",
       "      <td>1925</td>\n",
       "      <td>-22.0</td>\n",
       "    </tr>\n",
       "  </tbody>\n",
       "</table>\n",
       "</div>"
      ],
      "text/plain": [
       "   Flight_Number_Marketing_Airline  Cancelled  Diverted  CRSDepTime DepTime  \\\n",
       "0                             3133      False     False         724   714.0   \n",
       "1                             3134      False     False         922   917.0   \n",
       "2                             3135      False     False        1330  1321.0   \n",
       "3                             3136      False     False        1645  1636.0   \n",
       "4                             3137      False     False        1844  1838.0   \n",
       "\n",
       "  DepDelayMinutes  OriginAirportID  DestAirportID TaxiOut TaxiIn  CRSArrTime  \\\n",
       "0             0.0            14794          14107    10.0    5.0         843   \n",
       "1             0.0            14107          14794    23.0    3.0        1040   \n",
       "2             0.0            13296          13930    15.0   16.0        1530   \n",
       "3             0.0            11298          15323    27.0    7.0        2010   \n",
       "4             0.0            14107          10561    13.0    3.0        1925   \n",
       "\n",
       "  ArrDelay  \n",
       "0    -25.0  \n",
       "1     -9.0  \n",
       "2    -29.0  \n",
       "3     -8.0  \n",
       "4    -22.0  "
      ]
     },
     "execution_count": 52,
     "metadata": {},
     "output_type": "execute_result"
    }
   ],
   "source": [
    "# define the predictor variables and the response variable\n",
    "X = data[[\n",
    "    \"Flight_Number_Marketing_Airline\",\n",
    "    \"Cancelled\",\n",
    "    \"Diverted\",\n",
    "    \"CRSDepTime\",\n",
    "    \"DepTime\",\n",
    "    \"DepDelayMinutes\",\n",
    "    \"OriginAirportID\",\n",
    "    \"DestAirportID\",\n",
    "    \"TaxiOut\",\n",
    "    \"TaxiIn\",\n",
    "    \"CRSArrTime\",\n",
    "    \"ArrDelay\"]]\n",
    "\n",
    "y = data['ArrDel15']\n",
    "\n",
    "X.head() "
   ]
  },
  {
   "cell_type": "code",
   "execution_count": 58,
   "metadata": {},
   "outputs": [
    {
     "data": {
      "text/plain": [
       "Flight_Number_Marketing_Airline     int64\n",
       "Cancelled                            bool\n",
       "Diverted                             bool\n",
       "CRSDepTime                          int64\n",
       "DepTime                            object\n",
       "DepDelayMinutes                    object\n",
       "OriginAirportID                     int64\n",
       "DestAirportID                       int64\n",
       "TaxiOut                            object\n",
       "TaxiIn                             object\n",
       "CRSArrTime                          int64\n",
       "ArrDelay                           object\n",
       "dtype: object"
      ]
     },
     "execution_count": 58,
     "metadata": {},
     "output_type": "execute_result"
    }
   ],
   "source": [
    "# Find NaNs\n",
    "X.dtypes"
   ]
  },
  {
   "cell_type": "code",
   "execution_count": 59,
   "metadata": {},
   "outputs": [],
   "source": [
    "# Remove all infinite and NaN values\n",
    "\n",
    "def clean_dataset(X):\n",
    "    assert isinstance (X, pd.DataFrame), \"df need to be a pd.DataFrame\"\n",
    "    X.dropna(inplace=True)\n",
    "    indices_to_keep = ~X.isin([np.nan, np.inf, -np.inf]).any(1)\n",
    "    return X[indices_to_keep].astype(np.float64)"
   ]
  },
  {
   "cell_type": "code",
   "execution_count": 61,
   "metadata": {},
   "outputs": [
    {
     "name": "stdout",
     "output_type": "stream",
     "text": [
      "<class 'pandas.core.frame.DataFrame'>\n",
      "RangeIndex: 6311871 entries, 0 to 6311870\n",
      "Data columns (total 12 columns):\n",
      " #   Column                           Dtype \n",
      "---  ------                           ----- \n",
      " 0   Flight_Number_Marketing_Airline  int64 \n",
      " 1   Cancelled                        bool  \n",
      " 2   Diverted                         bool  \n",
      " 3   CRSDepTime                       int64 \n",
      " 4   DepTime                          object\n",
      " 5   DepDelayMinutes                  object\n",
      " 6   OriginAirportID                  int64 \n",
      " 7   DestAirportID                    int64 \n",
      " 8   TaxiOut                          object\n",
      " 9   TaxiIn                           object\n",
      " 10  CRSArrTime                       int64 \n",
      " 11  ArrDelay                         object\n",
      "dtypes: bool(2), int64(5), object(5)\n",
      "memory usage: 493.6+ MB\n"
     ]
    }
   ],
   "source": [
    "X.info()"
   ]
  },
  {
   "cell_type": "code",
   "execution_count": 62,
   "metadata": {},
   "outputs": [
    {
     "data": {
      "text/plain": [
       "0"
      ]
     },
     "execution_count": 62,
     "metadata": {},
     "output_type": "execute_result"
    }
   ],
   "source": [
    "# Remove NaN from test\n",
    "y = y.fillna(0)\n",
    "\n",
    "y.isnull().sum()"
   ]
  },
  {
   "cell_type": "code",
   "execution_count": 63,
   "metadata": {},
   "outputs": [
    {
     "data": {
      "text/plain": [
       "dtype('O')"
      ]
     },
     "execution_count": 63,
     "metadata": {},
     "output_type": "execute_result"
    }
   ],
   "source": [
    "y.dtypes"
   ]
  },
  {
   "cell_type": "markdown",
   "metadata": {},
   "source": [
    "# Convert dtypes of testing dimensions\n",
    "\n",
    "- We will need to convert the following dimensions `to_numeric` to train the Logistic Regression model: \"Flight_Number_Marketing_Airline\",\n",
    "    \"Cancelled\",\n",
    "    \"Diverted\",\n",
    "    \"CRSDepTime\",\n",
    "    \"DepTime\",\n",
    "    \"DepDelayMinutes\",\n",
    "    \"OriginAirportID\",\n",
    "    \"DestAirportID\",\n",
    "    \"TaxiOut\",\n",
    "    \"TaxiIn\",\n",
    "    \"CRSArrTime\",\n",
    "    \"ArrDelay\"\n"
   ]
  },
  {
   "cell_type": "code",
   "execution_count": 64,
   "metadata": {},
   "outputs": [
    {
     "name": "stdout",
     "output_type": "stream",
     "text": [
      "<class 'pandas.core.frame.DataFrame'>\n",
      "RangeIndex: 6311871 entries, 0 to 6311870\n",
      "Data columns (total 12 columns):\n",
      " #   Column                           Dtype  \n",
      "---  ------                           -----  \n",
      " 0   Flight_Number_Marketing_Airline  int64  \n",
      " 1   Cancelled                        bool   \n",
      " 2   Diverted                         bool   \n",
      " 3   CRSDepTime                       int64  \n",
      " 4   DepTime                          float64\n",
      " 5   DepDelayMinutes                  float64\n",
      " 6   OriginAirportID                  int64  \n",
      " 7   DestAirportID                    int64  \n",
      " 8   TaxiOut                          float64\n",
      " 9   TaxiIn                           float64\n",
      " 10  CRSArrTime                       int64  \n",
      " 11  ArrDelay                         float64\n",
      "dtypes: bool(2), float64(5), int64(5)\n",
      "memory usage: 493.6 MB\n"
     ]
    }
   ],
   "source": [
    "# Change all object features to float\n",
    "\n",
    "X = X.apply(pd.to_numeric)\n",
    "\n",
    "X.info()"
   ]
  },
  {
   "cell_type": "code",
   "execution_count": 65,
   "metadata": {},
   "outputs": [
    {
     "data": {
      "text/plain": [
       "dtype('float64')"
      ]
     },
     "execution_count": 65,
     "metadata": {},
     "output_type": "execute_result"
    }
   ],
   "source": [
    "# Convert y from object to int \n",
    "y = y.apply(pd.to_numeric)\n",
    "\n",
    "\n",
    "y.dtype"
   ]
  },
  {
   "cell_type": "markdown",
   "metadata": {},
   "source": [
    "# Fit and Train the Logistic Regression Model"
   ]
  },
  {
   "cell_type": "code",
   "execution_count": 66,
   "metadata": {},
   "outputs": [],
   "source": [
    "#split the dataset into training (70%) and testing (30%) sets\n",
    "X_train,X_test,y_train,y_test = train_test_split(X,y,test_size=0.3,random_state=0) \n"
   ]
  },
  {
   "cell_type": "code",
   "execution_count": 67,
   "metadata": {},
   "outputs": [
    {
     "data": {
      "text/plain": [
       "0          0.0\n",
       "1          0.0\n",
       "2          0.0\n",
       "3          0.0\n",
       "4          0.0\n",
       "          ... \n",
       "6311866    0.0\n",
       "6311867    0.0\n",
       "6311868    0.0\n",
       "6311869    0.0\n",
       "6311870    1.0\n",
       "Name: ArrDel15, Length: 6311871, dtype: float64"
      ]
     },
     "execution_count": 67,
     "metadata": {},
     "output_type": "execute_result"
    }
   ],
   "source": [
    "y "
   ]
  },
  {
   "cell_type": "code",
   "execution_count": 68,
   "metadata": {},
   "outputs": [
    {
     "ename": "ValueError",
     "evalue": "Input contains NaN, infinity or a value too large for dtype('float64').",
     "output_type": "error",
     "traceback": [
      "\u001b[0;31m---------------------------------------------------------------------------\u001b[0m",
      "\u001b[0;31mValueError\u001b[0m                                Traceback (most recent call last)",
      "\u001b[0;32m/var/folders/35/ywx36bhn01b5j1yh3v59z83r0000gn/T/ipykernel_49820/2212304690.py\u001b[0m in \u001b[0;36m<module>\u001b[0;34m\u001b[0m\n\u001b[1;32m      3\u001b[0m \u001b[0;34m\u001b[0m\u001b[0m\n\u001b[1;32m      4\u001b[0m \u001b[0;31m#fit the model using the training data\u001b[0m\u001b[0;34m\u001b[0m\u001b[0;34m\u001b[0m\u001b[0;34m\u001b[0m\u001b[0m\n\u001b[0;32m----> 5\u001b[0;31m \u001b[0mlog_regression\u001b[0m\u001b[0;34m.\u001b[0m\u001b[0mfit\u001b[0m\u001b[0;34m(\u001b[0m\u001b[0mX_train\u001b[0m\u001b[0;34m,\u001b[0m\u001b[0my_train\u001b[0m\u001b[0;34m)\u001b[0m\u001b[0;34m\u001b[0m\u001b[0;34m\u001b[0m\u001b[0m\n\u001b[0m\u001b[1;32m      6\u001b[0m \u001b[0;34m\u001b[0m\u001b[0m\n\u001b[1;32m      7\u001b[0m \u001b[0;31m#use model to make predictions on test data\u001b[0m\u001b[0;34m\u001b[0m\u001b[0;34m\u001b[0m\u001b[0;34m\u001b[0m\u001b[0m\n",
      "\u001b[0;32m~/opt/anaconda3/envs/mlenv/lib/python3.7/site-packages/sklearn/linear_model/_logistic.py\u001b[0m in \u001b[0;36mfit\u001b[0;34m(self, X, y, sample_weight)\u001b[0m\n\u001b[1;32m   1512\u001b[0m             \u001b[0mdtype\u001b[0m\u001b[0;34m=\u001b[0m\u001b[0m_dtype\u001b[0m\u001b[0;34m,\u001b[0m\u001b[0;34m\u001b[0m\u001b[0;34m\u001b[0m\u001b[0m\n\u001b[1;32m   1513\u001b[0m             \u001b[0morder\u001b[0m\u001b[0;34m=\u001b[0m\u001b[0;34m\"C\"\u001b[0m\u001b[0;34m,\u001b[0m\u001b[0;34m\u001b[0m\u001b[0;34m\u001b[0m\u001b[0m\n\u001b[0;32m-> 1514\u001b[0;31m             \u001b[0maccept_large_sparse\u001b[0m\u001b[0;34m=\u001b[0m\u001b[0msolver\u001b[0m \u001b[0;32mnot\u001b[0m \u001b[0;32min\u001b[0m \u001b[0;34m[\u001b[0m\u001b[0;34m\"liblinear\"\u001b[0m\u001b[0;34m,\u001b[0m \u001b[0;34m\"sag\"\u001b[0m\u001b[0;34m,\u001b[0m \u001b[0;34m\"saga\"\u001b[0m\u001b[0;34m]\u001b[0m\u001b[0;34m,\u001b[0m\u001b[0;34m\u001b[0m\u001b[0;34m\u001b[0m\u001b[0m\n\u001b[0m\u001b[1;32m   1515\u001b[0m         )\n\u001b[1;32m   1516\u001b[0m         \u001b[0mcheck_classification_targets\u001b[0m\u001b[0;34m(\u001b[0m\u001b[0my\u001b[0m\u001b[0;34m)\u001b[0m\u001b[0;34m\u001b[0m\u001b[0;34m\u001b[0m\u001b[0m\n",
      "\u001b[0;32m~/opt/anaconda3/envs/mlenv/lib/python3.7/site-packages/sklearn/base.py\u001b[0m in \u001b[0;36m_validate_data\u001b[0;34m(self, X, y, reset, validate_separately, **check_params)\u001b[0m\n\u001b[1;32m    574\u001b[0m                 \u001b[0my\u001b[0m \u001b[0;34m=\u001b[0m \u001b[0mcheck_array\u001b[0m\u001b[0;34m(\u001b[0m\u001b[0my\u001b[0m\u001b[0;34m,\u001b[0m \u001b[0;34m**\u001b[0m\u001b[0mcheck_y_params\u001b[0m\u001b[0;34m)\u001b[0m\u001b[0;34m\u001b[0m\u001b[0;34m\u001b[0m\u001b[0m\n\u001b[1;32m    575\u001b[0m             \u001b[0;32melse\u001b[0m\u001b[0;34m:\u001b[0m\u001b[0;34m\u001b[0m\u001b[0;34m\u001b[0m\u001b[0m\n\u001b[0;32m--> 576\u001b[0;31m                 \u001b[0mX\u001b[0m\u001b[0;34m,\u001b[0m \u001b[0my\u001b[0m \u001b[0;34m=\u001b[0m \u001b[0mcheck_X_y\u001b[0m\u001b[0;34m(\u001b[0m\u001b[0mX\u001b[0m\u001b[0;34m,\u001b[0m \u001b[0my\u001b[0m\u001b[0;34m,\u001b[0m \u001b[0;34m**\u001b[0m\u001b[0mcheck_params\u001b[0m\u001b[0;34m)\u001b[0m\u001b[0;34m\u001b[0m\u001b[0;34m\u001b[0m\u001b[0m\n\u001b[0m\u001b[1;32m    577\u001b[0m             \u001b[0mout\u001b[0m \u001b[0;34m=\u001b[0m \u001b[0mX\u001b[0m\u001b[0;34m,\u001b[0m \u001b[0my\u001b[0m\u001b[0;34m\u001b[0m\u001b[0;34m\u001b[0m\u001b[0m\n\u001b[1;32m    578\u001b[0m \u001b[0;34m\u001b[0m\u001b[0m\n",
      "\u001b[0;32m~/opt/anaconda3/envs/mlenv/lib/python3.7/site-packages/sklearn/utils/validation.py\u001b[0m in \u001b[0;36mcheck_X_y\u001b[0;34m(X, y, accept_sparse, accept_large_sparse, dtype, order, copy, force_all_finite, ensure_2d, allow_nd, multi_output, ensure_min_samples, ensure_min_features, y_numeric, estimator)\u001b[0m\n\u001b[1;32m    966\u001b[0m         \u001b[0mensure_min_samples\u001b[0m\u001b[0;34m=\u001b[0m\u001b[0mensure_min_samples\u001b[0m\u001b[0;34m,\u001b[0m\u001b[0;34m\u001b[0m\u001b[0;34m\u001b[0m\u001b[0m\n\u001b[1;32m    967\u001b[0m         \u001b[0mensure_min_features\u001b[0m\u001b[0;34m=\u001b[0m\u001b[0mensure_min_features\u001b[0m\u001b[0;34m,\u001b[0m\u001b[0;34m\u001b[0m\u001b[0;34m\u001b[0m\u001b[0m\n\u001b[0;32m--> 968\u001b[0;31m         \u001b[0mestimator\u001b[0m\u001b[0;34m=\u001b[0m\u001b[0mestimator\u001b[0m\u001b[0;34m,\u001b[0m\u001b[0;34m\u001b[0m\u001b[0;34m\u001b[0m\u001b[0m\n\u001b[0m\u001b[1;32m    969\u001b[0m     )\n\u001b[1;32m    970\u001b[0m \u001b[0;34m\u001b[0m\u001b[0m\n",
      "\u001b[0;32m~/opt/anaconda3/envs/mlenv/lib/python3.7/site-packages/sklearn/utils/validation.py\u001b[0m in \u001b[0;36mcheck_array\u001b[0;34m(array, accept_sparse, accept_large_sparse, dtype, order, copy, force_all_finite, ensure_2d, allow_nd, ensure_min_samples, ensure_min_features, estimator)\u001b[0m\n\u001b[1;32m    790\u001b[0m \u001b[0;34m\u001b[0m\u001b[0m\n\u001b[1;32m    791\u001b[0m         \u001b[0;32mif\u001b[0m \u001b[0mforce_all_finite\u001b[0m\u001b[0;34m:\u001b[0m\u001b[0;34m\u001b[0m\u001b[0;34m\u001b[0m\u001b[0m\n\u001b[0;32m--> 792\u001b[0;31m             \u001b[0m_assert_all_finite\u001b[0m\u001b[0;34m(\u001b[0m\u001b[0marray\u001b[0m\u001b[0;34m,\u001b[0m \u001b[0mallow_nan\u001b[0m\u001b[0;34m=\u001b[0m\u001b[0mforce_all_finite\u001b[0m \u001b[0;34m==\u001b[0m \u001b[0;34m\"allow-nan\"\u001b[0m\u001b[0;34m)\u001b[0m\u001b[0;34m\u001b[0m\u001b[0;34m\u001b[0m\u001b[0m\n\u001b[0m\u001b[1;32m    793\u001b[0m \u001b[0;34m\u001b[0m\u001b[0m\n\u001b[1;32m    794\u001b[0m     \u001b[0;32mif\u001b[0m \u001b[0mensure_min_samples\u001b[0m \u001b[0;34m>\u001b[0m \u001b[0;36m0\u001b[0m\u001b[0;34m:\u001b[0m\u001b[0;34m\u001b[0m\u001b[0;34m\u001b[0m\u001b[0m\n",
      "\u001b[0;32m~/opt/anaconda3/envs/mlenv/lib/python3.7/site-packages/sklearn/utils/validation.py\u001b[0m in \u001b[0;36m_assert_all_finite\u001b[0;34m(X, allow_nan, msg_dtype)\u001b[0m\n\u001b[1;32m    114\u001b[0m             raise ValueError(\n\u001b[1;32m    115\u001b[0m                 msg_err.format(\n\u001b[0;32m--> 116\u001b[0;31m                     \u001b[0mtype_err\u001b[0m\u001b[0;34m,\u001b[0m \u001b[0mmsg_dtype\u001b[0m \u001b[0;32mif\u001b[0m \u001b[0mmsg_dtype\u001b[0m \u001b[0;32mis\u001b[0m \u001b[0;32mnot\u001b[0m \u001b[0;32mNone\u001b[0m \u001b[0;32melse\u001b[0m \u001b[0mX\u001b[0m\u001b[0;34m.\u001b[0m\u001b[0mdtype\u001b[0m\u001b[0;34m\u001b[0m\u001b[0;34m\u001b[0m\u001b[0m\n\u001b[0m\u001b[1;32m    117\u001b[0m                 )\n\u001b[1;32m    118\u001b[0m             )\n",
      "\u001b[0;31mValueError\u001b[0m: Input contains NaN, infinity or a value too large for dtype('float64')."
     ]
    }
   ],
   "source": [
    "#instantiate the model\n",
    "log_regression = LogisticRegression()\n",
    "\n",
    "#fit the model using the training data\n",
    "log_regression.fit(X_train,y_train)\n",
    "\n",
    "#use model to make predictions on test data\n",
    "y_pred = log_regression.predict(X_test)"
   ]
  },
  {
   "cell_type": "code",
   "execution_count": null,
   "metadata": {},
   "outputs": [],
   "source": []
  }
 ],
 "metadata": {
  "interpreter": {
   "hash": "9093a295914b535c38dd0319264b1e51bf367640bcfa7a617b90b7d7ce144426"
  },
  "kernelspec": {
   "display_name": "Python 3.7.13 ('mlenv')",
   "language": "python",
   "name": "python3"
  },
  "language_info": {
   "codemirror_mode": {
    "name": "ipython",
    "version": 3
   },
   "file_extension": ".py",
   "mimetype": "text/x-python",
   "name": "python",
   "nbconvert_exporter": "python",
   "pygments_lexer": "ipython3",
   "version": "3.7.13"
  },
  "orig_nbformat": 4
 },
 "nbformat": 4,
 "nbformat_minor": 2
}
